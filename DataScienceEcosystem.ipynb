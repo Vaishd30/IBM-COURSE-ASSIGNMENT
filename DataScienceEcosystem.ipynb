{
 "cells": [
  {
   "cell_type": "markdown",
   "id": "d425e8de-e188-4ce1-9ed2-1d97f66fffde",
   "metadata": {},
   "source": [
    "# Data Science Tools and Eco System"
   ]
  },
  {
   "cell_type": "markdown",
   "id": "2e58e525-1eb7-4121-87ab-c4048d41fe70",
   "metadata": {},
   "source": [
    "In this notebook Data Science Tools and Ecosystem are summarized "
   ]
  },
  {
   "cell_type": "markdown",
   "id": "6f818399-cac1-40ac-b0cb-dc21fcb4426d",
   "metadata": {},
   "source": [
    "**Objectives**\n",
    "* List the popular Languages\n",
    "* List the commonly used Libraries by Data Scientist\n",
    "* List the Tools used by Data Scientist"
   ]
  },
  {
   "cell_type": "markdown",
   "id": "96a3ef48-bf77-4fb1-9560-792718287060",
   "metadata": {},
   "source": [
    "Some of the popular languages Data Scientists use are:\n",
    "1. Python\n",
    "2. R\n",
    "3. SQL"
   ]
  },
  {
   "cell_type": "markdown",
   "id": "f1d1c112-8656-4f94-84ce-d2781b6ae805",
   "metadata": {},
   "source": [
    "Some of the commonly used libraries used by Data Scientists include:\n",
    "1. matplotlib\n",
    "2. scikitlearn\n",
    "3. seaborn\n",
    "4. numpy\n",
    "5. pandas"
   ]
  },
  {
   "cell_type": "markdown",
   "id": "bb078998-d08d-4831-b21e-2386c1e45c4d",
   "metadata": {},
   "source": [
    "| Data Science Tools  |\n",
    "|---------------------|\n",
    "| Jupyter Notebook    |\n",
    "| Rstudio             |\n",
    "| GitHub              |\n",
    "\n"
   ]
  },
  {
   "cell_type": "markdown",
   "id": "f7ff1904-b715-49c7-8614-fdec8a9a0661",
   "metadata": {},
   "source": [
    "### Below are a few examples of evaluating arithmetic expressions in Python"
   ]
  },
  {
   "cell_type": "code",
   "execution_count": 2,
   "id": "5c01bfe9-ad87-40b7-bc2c-80b0f5294d0c",
   "metadata": {},
   "outputs": [
    {
     "data": {
      "text/plain": [
       "17"
      ]
     },
     "execution_count": 2,
     "metadata": {},
     "output_type": "execute_result"
    }
   ],
   "source": [
    "# This is a simple arithmetic expression to multiply then add integers\n",
    "(3*4)+5"
   ]
  },
  {
   "cell_type": "code",
   "execution_count": 3,
   "id": "d4d7325c-17f2-4007-8d3a-7b09f0d7806a",
   "metadata": {},
   "outputs": [
    {
     "data": {
      "text/plain": [
       "3.3333333333333335"
      ]
     },
     "execution_count": 3,
     "metadata": {},
     "output_type": "execute_result"
    }
   ],
   "source": [
    "# This will convert 200 minutes to hours by dividing by 60\n",
    "200/60"
   ]
  },
  {
   "cell_type": "markdown",
   "id": "dbe4af4a-90a7-4e90-a38c-fc5675f9d7c4",
   "metadata": {},
   "source": [
    "## Author\n",
    "Vaishnavi Dinesh"
   ]
  },
  {
   "cell_type": "code",
   "execution_count": null,
   "id": "0e6f7366-561b-4a21-b7c8-9b877441ecba",
   "metadata": {},
   "outputs": [],
   "source": []
  }
 ],
 "metadata": {
  "kernelspec": {
   "display_name": "Python 3 (ipykernel)",
   "language": "python",
   "name": "python3"
  },
  "language_info": {
   "codemirror_mode": {
    "name": "ipython",
    "version": 3
   },
   "file_extension": ".py",
   "mimetype": "text/x-python",
   "name": "python",
   "nbconvert_exporter": "python",
   "pygments_lexer": "ipython3",
   "version": "3.11.7"
  }
 },
 "nbformat": 4,
 "nbformat_minor": 5
}
